{
 "cells": [
  {
   "cell_type": "code",
   "execution_count": 4,
   "metadata": {},
   "outputs": [
    {
     "data": {
      "text/plain": [
       "21"
      ]
     },
     "execution_count": 4,
     "metadata": {},
     "output_type": "execute_result"
    }
   ],
   "source": [
    "def findGCF(x, y):\n",
    "    remainder = 1\n",
    "    divisor = y\n",
    "    bigNumber = x\n",
    "    \n",
    "    if y > x:\n",
    "        bigNumber = y\n",
    "        divisor = x\n",
    "    \n",
    "    while remainder != 0:\n",
    "        remainder = bigNumber % divisor\n",
    "        bigNumber = divisor\n",
    "        if remainder != 0:\n",
    "            divisor = remainder\n",
    "        \n",
    "    return divisor\n",
    "findGCF(1071, 462)\n",
    "    "
   ]
  }
 ],
 "metadata": {
  "kernelspec": {
   "display_name": "Python 3",
   "language": "python",
   "name": "python3"
  },
  "language_info": {
   "codemirror_mode": {
    "name": "ipython",
    "version": 3
   },
   "file_extension": ".py",
   "mimetype": "text/x-python",
   "name": "python",
   "nbconvert_exporter": "python",
   "pygments_lexer": "ipython3",
   "version": "3.7.6"
  }
 },
 "nbformat": 4,
 "nbformat_minor": 4
}

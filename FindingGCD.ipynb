{
 "cells": [
  {
   "cell_type": "code",
   "execution_count": 1,
   "metadata": {},
   "outputs": [
    {
     "data": {
      "text/plain": [
       "3"
      ]
     },
     "execution_count": 1,
     "metadata": {},
     "output_type": "execute_result"
    }
   ],
   "source": [
    "import math\n",
    "\n",
    "def findingGCD2Numbers(a, b):\n",
    "    previousRemainder = 1\n",
    "    remainder = 1\n",
    "    tempA = a\n",
    "    #counting = 1\n",
    "    \n",
    "    while True:\n",
    "        remainder = (a - b*math.floor(a/b))\n",
    "        \n",
    "        if remainder == 0:\n",
    "            return previousRemainder\n",
    "        \n",
    "        else:\n",
    "            a = b \n",
    "            previousRemainder = remainder\n",
    "            b = remainder\n",
    "            \n",
    "        #if counting > 100:\n",
    "            #return\n",
    "        #counting = counting + 1\n",
    "findingGCD2Numbers(9, 6)"
   ]
  },
  {
   "cell_type": "code",
   "execution_count": 2,
   "metadata": {},
   "outputs": [
    {
     "data": {
      "text/plain": [
       "7"
      ]
     },
     "execution_count": 2,
     "metadata": {},
     "output_type": "execute_result"
    }
   ],
   "source": [
    "def gcdWithRecursion(a, b):\n",
    "    if a%b == 0:\n",
    "        return b\n",
    "    return gcdWithRecursion(b, a%b)\n",
    "gcdWithRecursion(49, 35)"
   ]
  },
  {
   "cell_type": "code",
   "execution_count": null,
   "metadata": {},
   "outputs": [],
   "source": []
  }
 ],
 "metadata": {
  "kernelspec": {
   "display_name": "Python 3",
   "language": "python",
   "name": "python3"
  },
  "language_info": {
   "codemirror_mode": {
    "name": "ipython",
    "version": 3
   },
   "file_extension": ".py",
   "mimetype": "text/x-python",
   "name": "python",
   "nbconvert_exporter": "python",
   "pygments_lexer": "ipython3",
   "version": "3.7.6"
  }
 },
 "nbformat": 4,
 "nbformat_minor": 4
}

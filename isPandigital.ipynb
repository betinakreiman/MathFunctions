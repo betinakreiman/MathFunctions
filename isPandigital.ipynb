{
 "cells": [
  {
   "cell_type": "code",
   "execution_count": 26,
   "metadata": {},
   "outputs": [
    {
     "data": {
      "text/plain": [
       "True"
      ]
     },
     "execution_count": 26,
     "metadata": {},
     "output_type": "execute_result"
    }
   ],
   "source": [
    "# not including zero\n",
    "\n",
    "def isPandigital(numb):\n",
    "    goodList = list(range(1, lengthInt(numb) + 1))\n",
    "    arrayDigits = intToList(numb)\n",
    "    \n",
    "    for i in arrayDigits:\n",
    "        #print(i)\n",
    "        if i in goodList:\n",
    "            goodList.remove(i)\n",
    "            \n",
    "        \n",
    "    #print(goodList)\n",
    "    if len(goodList) == 0:\n",
    "        return True\n",
    "    return False\n",
    "isPandigital(128934567)"
   ]
  },
  {
   "cell_type": "code",
   "execution_count": 8,
   "metadata": {},
   "outputs": [
    {
     "data": {
      "text/plain": [
       "5"
      ]
     },
     "execution_count": 8,
     "metadata": {},
     "output_type": "execute_result"
    }
   ],
   "source": [
    "import math\n",
    "\n",
    "def lengthInt(n):\n",
    "    length = 0\n",
    "    while n > 0:\n",
    "        length = length + 1\n",
    "        n = math.floor(n // 10)\n",
    "    return length\n",
    "lengthInt(78897)"
   ]
  },
  {
   "cell_type": "code",
   "execution_count": 9,
   "metadata": {},
   "outputs": [
    {
     "data": {
      "text/plain": [
       "[3, 8, 0, 2, 8]"
      ]
     },
     "execution_count": 9,
     "metadata": {},
     "output_type": "execute_result"
    }
   ],
   "source": [
    "import math\n",
    "\n",
    "def intToList(n):\n",
    "    arr = []\n",
    "    while n > 0:\n",
    "        arr.append(n % 10)\n",
    "        n = math.floor(n / 10)\n",
    "    return arr\n",
    "intToList(82083)"
   ]
  },
  {
   "cell_type": "code",
   "execution_count": 27,
   "metadata": {},
   "outputs": [
    {
     "data": {
      "text/plain": [
       "True"
      ]
     },
     "execution_count": 27,
     "metadata": {},
     "output_type": "execute_result"
    }
   ],
   "source": [
    "import math\n",
    "\n",
    "def lengthInt(n):\n",
    "    length = 0\n",
    "    while n > 0:\n",
    "        length = length + 1\n",
    "        n = math.floor(n // 10)\n",
    "    return length\n",
    "lengthInt(78897)\n",
    "\n",
    "import math\n",
    "\n",
    "def intToList(n):\n",
    "    arr = []\n",
    "    while n > 0:\n",
    "        arr.append(n % 10)\n",
    "        n = math.floor(n / 10)\n",
    "    return arr\n",
    "intToList(82083)\n",
    "\n",
    "# not including zero\n",
    "\n",
    "def isPandigital(numb):\n",
    "    goodList = list(range(1, lengthInt(numb) + 1))\n",
    "    arrayDigits = intToList(numb)\n",
    "    \n",
    "    for i in arrayDigits:\n",
    "        #print(i)\n",
    "        if i in goodList:\n",
    "            goodList.remove(i)\n",
    "            \n",
    "        \n",
    "    #print(goodList)\n",
    "    if len(goodList) == 0:\n",
    "        return True\n",
    "    return False\n",
    "isPandigital(128934567)"
   ]
  },
  {
   "cell_type": "code",
   "execution_count": null,
   "metadata": {},
   "outputs": [],
   "source": []
  }
 ],
 "metadata": {
  "kernelspec": {
   "display_name": "Python 3",
   "language": "python",
   "name": "python3"
  },
  "language_info": {
   "codemirror_mode": {
    "name": "ipython",
    "version": 3
   },
   "file_extension": ".py",
   "mimetype": "text/x-python",
   "name": "python",
   "nbconvert_exporter": "python",
   "pygments_lexer": "ipython3",
   "version": "3.7.6"
  }
 },
 "nbformat": 4,
 "nbformat_minor": 4
}

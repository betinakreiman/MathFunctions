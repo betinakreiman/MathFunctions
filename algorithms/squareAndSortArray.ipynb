{
 "cells": [
  {
   "cell_type": "code",
   "execution_count": null,
   "metadata": {},
   "outputs": [],
   "source": [
    "# given a sorted array,\n",
    "# return the array in ascending or descending order but squared"
   ]
  },
  {
   "cell_type": "code",
   "execution_count": 1,
   "metadata": {},
   "outputs": [
    {
     "data": {
      "text/plain": [
       "[-19876, -3, 1, 2, 3, 4, 3456]"
      ]
     },
     "execution_count": 1,
     "metadata": {},
     "output_type": "execute_result"
    }
   ],
   "source": [
    "def merge(a):\n",
    "    # doing with recursion\n",
    "    # base case\n",
    "    if len(a) == 1:\n",
    "        # i know it is sorted\n",
    "        return a\n",
    "    length = int(len(a)/2)\n",
    "    firstHalf = a[:length]\n",
    "    secondHalf = a[length:]\n",
    "    firstHalf = merge(firstHalf)\n",
    "    secondHalf = merge(secondHalf)\n",
    "    index1 = 0\n",
    "    index2 = 0\n",
    "    newArray = []\n",
    "    while index2 < len(secondHalf) and index1 < len(firstHalf):\n",
    "        if firstHalf[index1] < secondHalf[index2]:\n",
    "            newArray.append(firstHalf[index1])\n",
    "            index1 += 1\n",
    "        else:\n",
    "            newArray.append(secondHalf[index2])\n",
    "            index2 += 1\n",
    "            \n",
    "    if index2 < len(secondHalf):\n",
    "        for i in range(index2, len(secondHalf)):\n",
    "            newArray.append(secondHalf[i])\n",
    "            \n",
    "    elif index1 < len(firstHalf):\n",
    "        for i in range(index1, len(firstHalf)):\n",
    "            newArray.append(firstHalf[i])\n",
    "        \n",
    "    return newArray\n",
    "\n",
    "merge([1, 3, 2, 4, -19876, -3, 3456])"
   ]
  },
  {
   "cell_type": "code",
   "execution_count": 3,
   "metadata": {},
   "outputs": [],
   "source": [
    "def square(arr):\n",
    "    a = []\n",
    "    for i in range(len(arr)):\n",
    "        a.append(arr[i]**2)\n",
    "    a = merge(a)\n",
    "    return a\n",
    "    "
   ]
  },
  {
   "cell_type": "code",
   "execution_count": 27,
   "metadata": {},
   "outputs": [
    {
     "data": {
      "text/plain": [
       "[4, 36, 974169]"
      ]
     },
     "execution_count": 27,
     "metadata": {},
     "output_type": "execute_result"
    }
   ],
   "source": [
    "def square2(arr):\n",
    "    index = -1\n",
    "    a = [arr[0]**2]\n",
    "    for i in range(1, len(arr)):\n",
    "        a.append(arr[i]**2)\n",
    "        if a[i] < a[i-1]:\n",
    "            index = i\n",
    "            \n",
    "    if index == len(arr):\n",
    "        return a[::-1]\n",
    "    elif index == -1:\n",
    "        return a\n",
    "    firstHalf = a[:index]\n",
    "    firstHalf = firstHalf[::-1]\n",
    "    secondHalf = a[index:]\n",
    "    index1 = 0\n",
    "    index2 = 0\n",
    "    newArray = []\n",
    "    while index2 < len(secondHalf) and index1 < len(firstHalf):\n",
    "        if firstHalf[index1] < secondHalf[index2]:\n",
    "            newArray.append(firstHalf[index1])\n",
    "            index1 += 1\n",
    "        else:\n",
    "            newArray.append(secondHalf[index2])\n",
    "            index2 += 1\n",
    "            \n",
    "    if index2 < len(secondHalf):\n",
    "        for i in range(index2, len(secondHalf)):\n",
    "            newArray.append(secondHalf[i])\n",
    "            \n",
    "    elif index1 < len(firstHalf):\n",
    "        for i in range(index1, len(firstHalf)):\n",
    "            newArray.append(firstHalf[i])\n",
    "        \n",
    "    return newArray\n",
    "\n",
    "square2([2, 6, 987])"
   ]
  },
  {
   "cell_type": "code",
   "execution_count": 12,
   "metadata": {},
   "outputs": [
    {
     "name": "stdout",
     "output_type": "stream",
     "text": [
      "[4, 3, 2, 1]\n"
     ]
    }
   ],
   "source": [
    "x = [1, 2, 3, 4]\n",
    "x = x[::-1]\n",
    "print(x)"
   ]
  },
  {
   "cell_type": "code",
   "execution_count": 32,
   "metadata": {},
   "outputs": [
    {
     "data": {
      "text/plain": [
       "[0, 1, 16, 36, 64]"
      ]
     },
     "execution_count": 32,
     "metadata": {},
     "output_type": "execute_result"
    }
   ],
   "source": [
    "# o(n) run time\n",
    "\n",
    "def sortSquaredArray(arr):\n",
    "    index1 = 0\n",
    "    index2 = len(arr)-1\n",
    "    newArr = []\n",
    "    while index2 >= index1:\n",
    "        temp1 = arr[index1]**2\n",
    "        temp2 = arr[index2]**2\n",
    "        if temp1 > temp2:\n",
    "            newArr.append(temp1)\n",
    "            index1 = index1 + 1\n",
    "        else:\n",
    "            newArr.append(temp2)\n",
    "            index2 = index2 - 1\n",
    "    return newArr[::-1]\n",
    "sortSquaredArray([0, 1, 4, 6, 8])"
   ]
  },
  {
   "cell_type": "code",
   "execution_count": null,
   "metadata": {},
   "outputs": [],
   "source": []
  },
  {
   "cell_type": "code",
   "execution_count": null,
   "metadata": {},
   "outputs": [],
   "source": []
  },
  {
   "cell_type": "code",
   "execution_count": null,
   "metadata": {},
   "outputs": [],
   "source": []
  }
 ],
 "metadata": {
  "kernelspec": {
   "display_name": "Python 3",
   "language": "python",
   "name": "python3"
  },
  "language_info": {
   "codemirror_mode": {
    "name": "ipython",
    "version": 3
   },
   "file_extension": ".py",
   "mimetype": "text/x-python",
   "name": "python",
   "nbconvert_exporter": "python",
   "pygments_lexer": "ipython3",
   "version": "3.7.6"
  }
 },
 "nbformat": 4,
 "nbformat_minor": 4
}

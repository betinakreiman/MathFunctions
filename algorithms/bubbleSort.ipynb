{
 "cells": [
  {
   "cell_type": "markdown",
   "metadata": {},
   "source": [
    "# Name: Bubble Sort\n",
    "## Given: An Array\n",
    "### What it does: Bubble sort sorts the array (smallest to biggest) or (biggest to smallest)\n",
    "### How it does it: Goes the array, if element is smaller than previous it switches them\n",
    "#### Run time: o(n^2) run time\n",
    "##### Extra notes: Can do with while loop or for loop"
   ]
  },
  {
   "cell_type": "code",
   "execution_count": 9,
   "metadata": {},
   "outputs": [],
   "source": [
    "# Good link Explaining Bubble sort\n",
    "# https://www.geeksforgeeks.org/bubble-sort/"
   ]
  },
  {
   "cell_type": "code",
   "execution_count": 6,
   "metadata": {},
   "outputs": [
    {
     "data": {
      "text/plain": [
       "[1, 2, 4, 2039487]"
      ]
     },
     "execution_count": 6,
     "metadata": {},
     "output_type": "execute_result"
    }
   ],
   "source": [
    "def bubbleSort(a):\n",
    "    #changed = True\n",
    "    n = a\n",
    "    for i in range(len(n)):\n",
    "        for j in range(len(n)-1):\n",
    "            if n[j+1] < n[j]:\n",
    "                n[j+1], n[j] = n[j], n[j+1]\n",
    "    return n\n",
    "bubbleSort([2, 1, 2039487, 4])\n",
    "        "
   ]
  },
  {
   "cell_type": "code",
   "execution_count": 5,
   "metadata": {},
   "outputs": [
    {
     "data": {
      "text/plain": [
       "[1, 1, 2, 3]"
      ]
     },
     "execution_count": 5,
     "metadata": {},
     "output_type": "execute_result"
    }
   ],
   "source": [
    "def bubbleSortWhile(a):\n",
    "    changed = True\n",
    "    n = a\n",
    "    while changed == True:\n",
    "        changed = False\n",
    "        for i in range(len(n)-1):\n",
    "            if n[i+1] < n[i]:\n",
    "                n[i+1], n[i] = n[i], n[i+1]\n",
    "                changed = True\n",
    "    return n\n",
    "bubbleSortWhile([2, 1, 3, 1])"
   ]
  },
  {
   "cell_type": "code",
   "execution_count": 11,
   "metadata": {},
   "outputs": [],
   "source": [
    "import numpy as np\n",
    "x = np.random.rand(10000)"
   ]
  },
  {
   "cell_type": "code",
   "execution_count": 14,
   "metadata": {},
   "outputs": [
    {
     "name": "stdout",
     "output_type": "stream",
     "text": [
      "--- 34.68873906135559 seconds ---\n"
     ]
    }
   ],
   "source": [
    "import time\n",
    "start_time = time.time()\n",
    "bubbleSort(x)\n",
    "print(\"--- %s seconds ---\" % (time.time() - start_time))"
   ]
  },
  {
   "cell_type": "code",
   "execution_count": null,
   "metadata": {},
   "outputs": [],
   "source": []
  }
 ],
 "metadata": {
  "kernelspec": {
   "display_name": "Python 3",
   "language": "python",
   "name": "python3"
  },
  "language_info": {
   "codemirror_mode": {
    "name": "ipython",
    "version": 3
   },
   "file_extension": ".py",
   "mimetype": "text/x-python",
   "name": "python",
   "nbconvert_exporter": "python",
   "pygments_lexer": "ipython3",
   "version": "3.7.6"
  }
 },
 "nbformat": 4,
 "nbformat_minor": 4
}

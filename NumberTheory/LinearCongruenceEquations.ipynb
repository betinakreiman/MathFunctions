{
 "cells": [
  {
   "cell_type": "code",
   "execution_count": 5,
   "metadata": {},
   "outputs": [
    {
     "data": {
      "text/plain": [
       "(-308.0, 112.0)"
      ]
     },
     "execution_count": 5,
     "metadata": {},
     "output_type": "execute_result"
    }
   ],
   "source": [
    "import math\n",
    "\n",
    "def findGCD(a, b):\n",
    "    if a%b == 0:\n",
    "        return b\n",
    "    return findGCD(b, a%b)\n",
    "findGCD(26, 72)\n",
    "\n",
    "def gcdProvideArrOfArrWithCoefficient(a, b):\n",
    "    arrayOfCoefficients = []\n",
    "    \n",
    "    previousRemainder = 1\n",
    "    remainder = 1\n",
    "    tempA = a\n",
    "    \n",
    "    while True:\n",
    "        q = math.floor(a/b)\n",
    "        remainder = (a - b*q)\n",
    "        \n",
    "        arrayOfCoefficients.append([a, b, q, remainder])\n",
    "        \n",
    "        if remainder == 0:\n",
    "            return arrayOfCoefficients\n",
    "        \n",
    "        else:\n",
    "            a = b \n",
    "            previousRemainder = remainder\n",
    "            b = remainder\n",
    "            \n",
    "gcdProvideArrOfArrWithCoefficient(25, 60)\n",
    "\n",
    "def checkWhichOnesWhich(a, b, integerValue, addingValue, gcd):\n",
    "    finalCoefficientA = 0\n",
    "    finalCoefficientB = 0\n",
    "    \n",
    "    if integerValue * a + (-1)*(addingValue+integerValue) * b == gcd:\n",
    "        finalCoefficientA = integerValue\n",
    "        finalCoefficientB = (-1) * (addingValue+integerValue)\n",
    "    elif (-1)*integerValue * a + (addingValue+integerValue) * b == gcd:\n",
    "        finalCoefficientA = (-1) * integerValue\n",
    "        finalCoefficientB = (addingValue+integerValue)\n",
    "        \n",
    "    elif integerValue * b + (-1)*(addingValue+integerValue) * a == gcd:\n",
    "        finalCoefficientB = integerValue\n",
    "        finalCoefficientA = (-1) * (addingValue+integerValue)\n",
    "    elif integerValue * a + (-1)*(addingValue+integerValue) * b == gcd:\n",
    "        finalCoefficientB = (-1) * integerValue\n",
    "        finalCoefficientA = (addingValue+integerValue)\n",
    "        \n",
    "    elif (-1)*integerValue*a + (addingValue)*b == gcd:\n",
    "        finalCoefficientA = (-1)*integerValue\n",
    "        finalCoefficientB = addingValue\n",
    "    elif (-1)*integerValue*b + addingValue*a == gcd:\n",
    "        finalCoefficientB = (-1)*integerValue\n",
    "        finalCoefficientA = addingValue\n",
    "        \n",
    "    elif integerValue*a + (integerValue - addingValue)*b == gcd:\n",
    "        finalCoefficientA = integerValue\n",
    "        finalCoefficientB = integerValue - addingValue\n",
    "    elif integerValue*b + (integerValue - addingValue)*a == gcd:\n",
    "        finalCoefficientB = integerValue\n",
    "        finalCoefficientA = integerValue - addingValue\n",
    "        \n",
    "    elif integerValue*a + (-1)*addingValue*b == gcd:\n",
    "        finalCoefficientA = integerValue\n",
    "        finalCoefficientB = (-1)*addingValue\n",
    "    elif integerValue*b + (-1)*addingValue*a == gcd:\n",
    "        finalCoefficientB = integerValue\n",
    "        finalCoefficientA = (-1)*addingValue\n",
    "    \n",
    "    return finalCoefficientA, finalCoefficientB\n",
    "checkWhichOnesWhich(25, 60, 5, 2, 5)\n",
    "\n",
    "def findSolution(a, b, c):\n",
    "    gcd = findGCD(a,b)\n",
    "    if c % gcd != 0:\n",
    "        return 'no integer solution'\n",
    "    \n",
    "    arrayGCDnumbers = gcdProvideArrOfArrWithCoefficient(a, b)\n",
    "    del arrayGCDnumbers[-1]\n",
    "    lengthOfArrays = len(arrayGCDnumbers) \n",
    "    \n",
    "    integerValue = 1\n",
    "    addingValue = 0\n",
    "    \n",
    "    for i in range(0, lengthOfArrays-1):\n",
    "        temp = integerValue\n",
    "        integerValue = integerValue * arrayGCDnumbers[lengthOfArrays-1-i][2] \n",
    "        integerValue = integerValue + addingValue\n",
    "        addingValue = temp\n",
    "        \n",
    "    #print(integerValue, addingValue)\n",
    "        \n",
    "    finalCoefficientA = 0\n",
    "    finalCoefficientB = 0\n",
    "    \n",
    "    finalCoefficientA, finalCoefficientB = checkWhichOnesWhich(a, b, integerValue, addingValue, gcd)\n",
    "    \n",
    "    if gcd == c:\n",
    "        return finalCoefficientA, finalCoefficientB\n",
    "    scalar = c / gcd\n",
    "    finalCoefficientA = finalCoefficientA * scalar\n",
    "    finalCoefficientB = finalCoefficientB * scalar\n",
    "    return finalCoefficientA, finalCoefficientB\n",
    "    \n",
    "findSolution(26, 72, 56)"
   ]
  },
  {
   "cell_type": "markdown",
   "metadata": {},
   "source": [
    "def solveForX(a, b, n):\n",
    "    gcd = gcdWithRecursion(a, n)\n",
    "    if gcd % b != 0:\n",
    "        return 'no solution;\n",
    "    \n",
    "    solutions = []\n",
    "    temp = findSolution(a, n, b)\n",
    "    firstSolution = temp[0]\n",
    "    if firstSolution >= 0 && firstSolution <= n:\n",
    "        solutions.append(firstSolution)\n",
    "    else:\n",
    "        # add temp[0] somehow\n",
    "        if firstSolution < 0:\n",
    "            firstSolution = firstSolution % n\n",
    "        else: \n",
    "            \n",
    "            \n",
    "        \n",
    "    m = 1\n",
    "    while len(solutions) < gcd:\n",
    "        newSolution = firstSolution + m * (n / g)\n",
    "        if newSolution >= 0 && newSolution <= n:\n",
    "            solutions.append(newSolution)\n",
    "        else: \n",
    "            \n",
    "        \n",
    "        m = m + 1"
   ]
  },
  {
   "cell_type": "code",
   "execution_count": 6,
   "metadata": {},
   "outputs": [
    {
     "data": {
      "text/plain": [
       "28"
      ]
     },
     "execution_count": 6,
     "metadata": {},
     "output_type": "execute_result"
    }
   ],
   "source": [
    "def returnSolutionInZ(tempAnswer, withinX):\n",
    "    while True:\n",
    "        if tempAnswer >= 0 and tempAnswer <= withinX:\n",
    "            return tempAnswer\n",
    "        \n",
    "        tempAnswer = tempAnswer % withinX\n",
    "        \n",
    "returnSolutionInZ(-15, 43)"
   ]
  },
  {
   "cell_type": "code",
   "execution_count": null,
   "metadata": {},
   "outputs": [],
   "source": []
  },
  {
   "cell_type": "code",
   "execution_count": 12,
   "metadata": {},
   "outputs": [
    {
     "data": {
      "text/plain": [
       "[0.0]"
      ]
     },
     "execution_count": 12,
     "metadata": {},
     "output_type": "execute_result"
    }
   ],
   "source": [
    "def findingX(a, b, n):\n",
    "    gcd = findGCD(a, n)\n",
    "    if n % gcd != 0 :\n",
    "        return 'no solution'\n",
    "    \n",
    "    solutions = []\n",
    "    temp = findSolution(a, n, b)\n",
    "    firstSolution = temp[0]\n",
    "    firstSolution = returnSolutionInZ(firstSolution, n)\n",
    "    solutions.append(firstSolution)\n",
    "    \n",
    "    bOverG = n / gcd\n",
    "    for i in range(1, gcd):\n",
    "        tempSolution = firstSolution + i * bOverG\n",
    "        tempSolution = returnSolutionInZ(tempSolution, n)\n",
    "        \n",
    "        solutions.append(tempSolution)\n",
    "        \n",
    "    return solutions\n",
    "\n",
    "findingX(7, 31, 1)\n",
    "    "
   ]
  },
  {
   "cell_type": "code",
   "execution_count": null,
   "metadata": {},
   "outputs": [],
   "source": []
  },
  {
   "cell_type": "code",
   "execution_count": null,
   "metadata": {},
   "outputs": [],
   "source": []
  },
  {
   "cell_type": "code",
   "execution_count": null,
   "metadata": {},
   "outputs": [],
   "source": []
  },
  {
   "cell_type": "code",
   "execution_count": null,
   "metadata": {},
   "outputs": [],
   "source": []
  },
  {
   "cell_type": "code",
   "execution_count": null,
   "metadata": {},
   "outputs": [],
   "source": []
  },
  {
   "cell_type": "code",
   "execution_count": null,
   "metadata": {},
   "outputs": [],
   "source": []
  }
 ],
 "metadata": {
  "kernelspec": {
   "display_name": "Python 3",
   "language": "python",
   "name": "python3"
  },
  "language_info": {
   "codemirror_mode": {
    "name": "ipython",
    "version": 3
   },
   "file_extension": ".py",
   "mimetype": "text/x-python",
   "name": "python",
   "nbconvert_exporter": "python",
   "pygments_lexer": "ipython3",
   "version": "3.7.6"
  }
 },
 "nbformat": 4,
 "nbformat_minor": 4
}

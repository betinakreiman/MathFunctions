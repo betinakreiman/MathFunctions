{
 "cells": [
  {
   "cell_type": "code",
   "execution_count": 19,
   "metadata": {},
   "outputs": [
    {
     "data": {
      "text/plain": [
       "False"
      ]
     },
     "execution_count": 19,
     "metadata": {},
     "output_type": "execute_result"
    }
   ],
   "source": [
    "import math\n",
    "\n",
    "def isPrime(n):\n",
    "    if n == 1 or n == 4:\n",
    "        return False\n",
    "    if n == 2 or n == 3:\n",
    "        return True\n",
    "    for i in range(2, math.floor(n**1/2)):\n",
    "        if n % i == 0:\n",
    "            return False\n",
    "    return True\n",
    "isPrime(1149)"
   ]
  },
  {
   "cell_type": "code",
   "execution_count": 20,
   "metadata": {},
   "outputs": [
    {
     "data": {
      "text/plain": [
       "4"
      ]
     },
     "execution_count": 20,
     "metadata": {},
     "output_type": "execute_result"
    }
   ],
   "source": [
    "def numberPrimesBelow(n):\n",
    "    howMany = 0\n",
    "    for i in range(1, n):\n",
    "        if isPrime(i) == True:\n",
    "            howMany = howMany + 1\n",
    "    return howMany\n",
    "numberPrimesBelow(10)"
   ]
  },
  {
   "cell_type": "code",
   "execution_count": 5,
   "metadata": {},
   "outputs": [
    {
     "data": {
      "text/plain": [
       "2.302585092994046"
      ]
     },
     "execution_count": 5,
     "metadata": {},
     "output_type": "execute_result"
    }
   ],
   "source": [
    "def logOfNumber(x):\n",
    "    return math.log(x)\n",
    "logOfNumber(10)"
   ]
  },
  {
   "cell_type": "code",
   "execution_count": 11,
   "metadata": {},
   "outputs": [
    {
     "data": {
      "text/plain": [
       "4.3429448190325175"
      ]
     },
     "execution_count": 11,
     "metadata": {},
     "output_type": "execute_result"
    }
   ],
   "source": [
    "10 / (math.log(10))"
   ]
  },
  {
   "cell_type": "code",
   "execution_count": 23,
   "metadata": {},
   "outputs": [
    {
     "name": "stdout",
     "output_type": "stream",
     "text": [
      "+-------+-------+--------------------+--------------------+\n",
      "|   x   | pi(x) |       x/lnx        |    pi(x)/x/lnx     |\n",
      "+-------+-------+--------------------+--------------------+\n",
      "|   10  |   4   | 4.3429448190325175 | 0.9210340371976184 |\n",
      "|  100  |   25  | 21.71472409516259  | 1.151292546497023  |\n",
      "|  1000 |  168  | 144.76482730108395 | 1.1605028868689988 |\n",
      "| 10000 |  1229 | 1085.7362047581294 | 1.131950831715873  |\n",
      "+-------+-------+--------------------+--------------------+\n"
     ]
    }
   ],
   "source": [
    "def divideNumberPrimes(highestX):\n",
    "    myTable = PrettyTable([\"x\", \"pi(x)\", \"x/lnx\", \"pi(x)/x/lnx\"])\n",
    "    x = 10\n",
    "    while x <= highestX:\n",
    "        pix = numberPrimesBelow(x)\n",
    "        lnx = x / logOfNumber(x)\n",
    "        lastColumn = pix / lnx\n",
    "        \n",
    "        myTable.add_row([x, pix, lnx, lastColumn])\n",
    "        x = x * 10\n",
    "    print(myTable)\n",
    "divideNumberPrimes(10000)"
   ]
  },
  {
   "cell_type": "code",
   "execution_count": 8,
   "metadata": {},
   "outputs": [
    {
     "name": "stdout",
     "output_type": "stream",
     "text": [
      "+--------------+-------+---------+------------+\n",
      "| Student Name | Class | Section | Percentage |\n",
      "+--------------+-------+---------+------------+\n",
      "|   Leanord    |   X   |    B    |   91.2 %   |\n",
      "|    Penny     |   X   |    C    |   63.5 %   |\n",
      "|    Howard    |   X   |    A    |  90.23 %   |\n",
      "|  Bernadette  |   X   |    D    |   92.7 %   |\n",
      "|   Sheldon    |   X   |    A    |   98.2 %   |\n",
      "|     Raj      |   X   |    B    |   88.1 %   |\n",
      "|     Amy      |   X   |    B    |   95.0 %   |\n",
      "+--------------+-------+---------+------------+\n"
     ]
    }
   ],
   "source": [
    "from prettytable import PrettyTable \n",
    "  \n",
    "# Specify the Column Names while initializing the Table \n",
    "myTable = PrettyTable([\"Student Name\", \"Class\", \"Section\", \"Percentage\"]) \n",
    "  \n",
    "# Add rows \n",
    "myTable.add_row([\"Leanord\", \"X\", \"B\", \"91.2 %\"]) \n",
    "myTable.add_row([\"Penny\", \"X\", \"C\", \"63.5 %\"]) \n",
    "myTable.add_row([\"Howard\", \"X\", \"A\", \"90.23 %\"]) \n",
    "myTable.add_row([\"Bernadette\", \"X\", \"D\", \"92.7 %\"]) \n",
    "myTable.add_row([\"Sheldon\", \"X\", \"A\", \"98.2 %\"]) \n",
    "myTable.add_row([\"Raj\", \"X\", \"B\", \"88.1 %\"]) \n",
    "myTable.add_row([\"Amy\", \"X\", \"B\", \"95.0 %\"]) \n",
    "  \n",
    "print(myTable)"
   ]
  },
  {
   "cell_type": "code",
   "execution_count": 40,
   "metadata": {},
   "outputs": [],
   "source": [
    "divisors = [4, 25, 168, 1229, 9592, 78498, 664579, 5761455, 50847534, 455052511, 4118054813, 37607912018, 346065536839]"
   ]
  },
  {
   "cell_type": "code",
   "execution_count": 45,
   "metadata": {},
   "outputs": [
    {
     "data": {
      "image/png": "[encoded data removed]",
      "text/plain": [
       "<Figure size 432x288 with 1 Axes>"
      ]
     },
     "metadata": {
      "needs_background": "light"
     },
     "output_type": "display_data"
    }
   ],
   "source": [
    "def graphPrimeNumberTheorem(highestX):\n",
    "    x = 10\n",
    "    temp = 0\n",
    "    arrayX = []\n",
    "    quotient = []\n",
    "    while x <= highestX:\n",
    "        arrayX.append(x)\n",
    "        #pix = numberPrimesBelow(x)\n",
    "        pix = divisors[temp]\n",
    "        lnx = x / logOfNumber(x)\n",
    "        division = pix / lnx\n",
    "        \n",
    "        quotient.append(division)\n",
    "    \n",
    "        x = x * 10\n",
    "        temp = temp + 1\n",
    "    #print(quotient)\n",
    "    plt.plot(arrayX, quotient)\n",
    "    plt.title('Prime Number Theorem')\n",
    "    plt.xlabel('X')\n",
    "    plt.ylabel('Division')\n",
    "    plt.show()\n",
    "graphPrimeNumberTheorem(10000000)"
   ]
  },
  {
   "cell_type": "code",
   "execution_count": 26,
   "metadata": {},
   "outputs": [
    {
     "data": {
      "image/png": "[encoded data removed]",
      "text/plain": [
       "<Figure size 432x288 with 1 Axes>"
      ]
     },
     "metadata": {
      "needs_background": "light"
     },
     "output_type": "display_data"
    }
   ],
   "source": [
    "import matplotlib.pyplot as plt\n",
    "   \n",
    "Year = [1920,1930,1940,1950,1960,1970,1980,1990,2000,2010]\n",
    "Unemployment_Rate = [9.8,12,8,7.2,6.9,7,6.5,6.2,5.5,6.3]\n",
    "  \n",
    "plt.plot(Year, Unemployment_Rate)\n",
    "plt.title('Unemployment Rate Vs Year')\n",
    "plt.xlabel('Year')\n",
    "plt.ylabel('Unemployment Rate')\n",
    "plt.show()"
   ]
  },
  {
   "cell_type": "code",
   "execution_count": null,
   "metadata": {},
   "outputs": [],
   "source": []
  },
  {
   "cell_type": "code",
   "execution_count": null,
   "metadata": {},
   "outputs": [],
   "source": []
  },
  {
   "cell_type": "code",
   "execution_count": null,
   "metadata": {},
   "outputs": [],
   "source": []
  },
  {
   "cell_type": "code",
   "execution_count": null,
   "metadata": {},
   "outputs": [],
   "source": []
  },
  {
   "cell_type": "code",
   "execution_count": null,
   "metadata": {},
   "outputs": [],
   "source": []
  },
  {
   "cell_type": "code",
   "execution_count": null,
   "metadata": {},
   "outputs": [],
   "source": []
  },
  {
   "cell_type": "code",
   "execution_count": null,
   "metadata": {},
   "outputs": [],
   "source": []
  }
 ],
 "metadata": {
  "kernelspec": {
   "display_name": "Python 3",
   "language": "python",
   "name": "python3"
  },
  "language_info": {
   "codemirror_mode": {
    "name": "ipython",
    "version": 3
   },
   "file_extension": ".py",
   "mimetype": "text/x-python",
   "name": "python",
   "nbconvert_exporter": "python",
   "pygments_lexer": "ipython3",
   "version": "3.7.6"
  }
 },
 "nbformat": 4,
 "nbformat_minor": 4
}

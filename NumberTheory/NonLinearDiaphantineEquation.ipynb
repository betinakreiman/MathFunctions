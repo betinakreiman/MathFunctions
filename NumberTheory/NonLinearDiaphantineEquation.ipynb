{
 "cells": [
  {
   "cell_type": "code",
   "execution_count": 4,
   "metadata": {},
   "outputs": [
    {
     "data": {
      "text/plain": [
       "(5, 3.0)"
      ]
     },
     "execution_count": 4,
     "metadata": {},
     "output_type": "execute_result"
    }
   ],
   "source": [
    "import math\n",
    "\n",
    "def solveForXandY(max):\n",
    "    checkingNumber = 1\n",
    "    while checkingNumber < max:\n",
    "        temp = pow(pow(checkingNumber, 2) + 2, 1/3)\n",
    "        if math.floor(temp) == temp:\n",
    "            return checkingNumber, temp\n",
    "        checkingNumber = checkingNumber + 1\n",
    "\n",
    "solveForXandY(100) \n",
    "        "
   ]
  },
  {
   "cell_type": "code",
   "execution_count": null,
   "metadata": {},
   "outputs": [],
   "source": [
    "(5, 3) and (-5, 3)"
   ]
  }
 ],
 "metadata": {
  "kernelspec": {
   "display_name": "Python 3",
   "language": "python",
   "name": "python3"
  },
  "language_info": {
   "codemirror_mode": {
    "name": "ipython",
    "version": 3
   },
   "file_extension": ".py",
   "mimetype": "text/x-python",
   "name": "python",
   "nbconvert_exporter": "python",
   "pygments_lexer": "ipython3",
   "version": "3.7.6"
  }
 },
 "nbformat": 4,
 "nbformat_minor": 4
}

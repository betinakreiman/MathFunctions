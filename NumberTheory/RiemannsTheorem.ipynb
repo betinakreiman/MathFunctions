{
 "cells": [
  {
   "cell_type": "code",
   "execution_count": 32,
   "metadata": {},
   "outputs": [
    {
     "data": {
      "text/plain": [
       "1.6448340618480652"
      ]
     },
     "execution_count": 32,
     "metadata": {},
     "output_type": "execute_result"
    }
   ],
   "source": [
    "def sumOfZeta(xTimes):\n",
    "    sumZeta = 0\n",
    "    for i in range(1, xTimes):\n",
    "        sumZeta = sumZeta + (1 / pow(i, 2))\n",
    "    return sumZeta\n",
    "sumOfZeta(10000)"
   ]
  },
  {
   "cell_type": "code",
   "execution_count": 6,
   "metadata": {},
   "outputs": [
    {
     "name": "stdout",
     "output_type": "stream",
     "text": [
      "1.6449340668482264\n"
     ]
    }
   ],
   "source": [
    "import math\n",
    "\n",
    "print((pow((math.pi), 2)) / 6)"
   ]
  },
  {
   "cell_type": "code",
   "execution_count": null,
   "metadata": {},
   "outputs": [],
   "source": []
  },
  {
   "cell_type": "code",
   "execution_count": null,
   "metadata": {},
   "outputs": [],
   "source": []
  },
  {
   "cell_type": "code",
   "execution_count": 21,
   "metadata": {},
   "outputs": [
    {
     "data": {
      "text/plain": [
       "True"
      ]
     },
     "execution_count": 21,
     "metadata": {},
     "output_type": "execute_result"
    }
   ],
   "source": [
    "import math\n",
    "\n",
    "def checkIfPrime(x):\n",
    "    for i in range(2, math.floor(pow(x, 1/2))):\n",
    "        if x % i == 0:\n",
    "            return False\n",
    "        \n",
    "    return True\n",
    "checkIfPrime(101)"
   ]
  },
  {
   "cell_type": "code",
   "execution_count": 25,
   "metadata": {},
   "outputs": [
    {
     "name": "stdout",
     "output_type": "stream",
     "text": [
      "hello my name is misha\n",
      "22103325\n"
     ]
    }
   ],
   "source": [
    "print(\"hello my name is misha\")\n",
    "mishaAge = 15\n",
    "betinaAge = 15\n",
    "print(mishaAge * betinaAge * 98237)"
   ]
  },
  {
   "cell_type": "code",
   "execution_count": 31,
   "metadata": {},
   "outputs": [
    {
     "name": "stdout",
     "output_type": "stream",
     "text": [
      "1\n",
      "3\n",
      "5\n",
      "7\n",
      "9\n"
     ]
    }
   ],
   "source": [
    "for i in range(1, 10):\n",
    "    if i % 2 != 0:\n",
    "        print(i)\n",
    "    "
   ]
  },
  {
   "cell_type": "code",
   "execution_count": 39,
   "metadata": {},
   "outputs": [
    {
     "name": "stdout",
     "output_type": "stream",
     "text": [
      "233168\n"
     ]
    }
   ],
   "source": [
    "sumMultiples = 0 \n",
    "for i in range (1,1000):\n",
    "    if i % 3 == 0:\n",
    "        sumMultiples = i+sumMultiples\n",
    "    elif i % 5 == 0:\n",
    "        sumMultiples = i+sumMultiples\n",
    "print(sumMultiples)"
   ]
  },
  {
   "cell_type": "code",
   "execution_count": null,
   "metadata": {},
   "outputs": [],
   "source": []
  },
  {
   "cell_type": "code",
   "execution_count": null,
   "metadata": {},
   "outputs": [],
   "source": []
  }
 ],
 "metadata": {
  "kernelspec": {
   "display_name": "Python 3",
   "language": "python",
   "name": "python3"
  },
  "language_info": {
   "codemirror_mode": {
    "name": "ipython",
    "version": 3
   },
   "file_extension": ".py",
   "mimetype": "text/x-python",
   "name": "python",
   "nbconvert_exporter": "python",
   "pygments_lexer": "ipython3",
   "version": "3.7.6"
  }
 },
 "nbformat": 4,
 "nbformat_minor": 4
}

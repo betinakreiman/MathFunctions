{
 "cells": [
  {
   "cell_type": "code",
   "execution_count": 15,
   "metadata": {},
   "outputs": [
    {
     "name": "stdout",
     "output_type": "stream",
     "text": [
      "[3, 5, 7, 11, 13, 17, 19, 23, 29, 31]\n"
     ]
    }
   ],
   "source": [
    "def createNPrimes(length, startingNumb):\n",
    "    listOfPrimes = []\n",
    "    checkingNumber = startingNumb\n",
    "    while (len(listOfPrimes) < length):\n",
    "        if isPrime(checkingNumber):\n",
    "            listOfPrimes.append(checkingNumber)\n",
    "        checkingNumber = checkingNumber + 1\n",
    "    return listOfPrimes\n",
    "listFirst10Primes = createNPrimes(10, 3)\n",
    "print(listFirst10Primes)"
   ]
  },
  {
   "cell_type": "code",
   "execution_count": 4,
   "metadata": {},
   "outputs": [
    {
     "data": {
      "text/plain": [
       "True"
      ]
     },
     "execution_count": 4,
     "metadata": {},
     "output_type": "execute_result"
    }
   ],
   "source": [
    "import math\n",
    "\n",
    "def isPrime(n):\n",
    "    if n == 1 or n == 4:\n",
    "        return False\n",
    "    if n == 2 or n == 3:\n",
    "        return True\n",
    "    for i in range(2, math.floor(n**1/2)):\n",
    "        if n % i == 0:\n",
    "            return False\n",
    "    return True\n",
    "isPrime(2)"
   ]
  },
  {
   "cell_type": "code",
   "execution_count": 9,
   "metadata": {},
   "outputs": [
    {
     "name": "stdout",
     "output_type": "stream",
     "text": [
      "Collecting tabulate\n",
      "  Downloading tabulate-0.8.9-py3-none-any.whl (25 kB)\n",
      "Installing collected packages: tabulate\n",
      "Successfully installed tabulate-0.8.9\n",
      "Note: you may need to restart the kernel to use updated packages.\n"
     ]
    }
   ],
   "source": [
    "pip install tabulate"
   ]
  },
  {
   "cell_type": "code",
   "execution_count": 10,
   "metadata": {},
   "outputs": [
    {
     "name": "stdout",
     "output_type": "stream",
     "text": [
      "+-----------+-----------+\n",
      "| Name      | City      |\n",
      "+===========+===========+\n",
      "| Delhi     | Nikhil    |\n",
      "+-----------+-----------+\n",
      "| Ravi      | Kanpur    |\n",
      "+-----------+-----------+\n",
      "| Manish    | Ahmedabad |\n",
      "+-----------+-----------+\n",
      "| Bangalore | Prince    |\n",
      "+-----------+-----------+\n"
     ]
    }
   ],
   "source": [
    "from tabulate import tabulate\n",
    "  \n",
    "# assign data\n",
    "mydata = [{\"Nikhil\", \"Delhi\"}, \n",
    "          {\"Ravi\", \"Kanpur\"}, \n",
    "          {\"Manish\", \"Ahmedabad\"}, \n",
    "          {\"Prince\", \"Bangalore\"}]\n",
    "  \n",
    "# create header\n",
    "head = [\"Name\", \"City\"]\n",
    "  \n",
    "# display table\n",
    "print(tabulate(mydata, headers=head, tablefmt=\"grid\"))"
   ]
  },
  {
   "cell_type": "code",
   "execution_count": 11,
   "metadata": {},
   "outputs": [
    {
     "name": "stdout",
     "output_type": "stream",
     "text": [
      "Collecting prettytable\n",
      "  Downloading prettytable-2.1.0-py3-none-any.whl (22 kB)\n",
      "Requirement already satisfied: wcwidth in /Users/betinakreiman/opt/anaconda3/lib/python3.7/site-packages (from prettytable) (0.1.8)\n",
      "Requirement already satisfied: importlib-metadata; python_version < \"3.8\" in /Users/betinakreiman/opt/anaconda3/lib/python3.7/site-packages (from prettytable) (1.5.0)\n",
      "Requirement already satisfied: zipp>=0.5 in /Users/betinakreiman/opt/anaconda3/lib/python3.7/site-packages (from importlib-metadata; python_version < \"3.8\"->prettytable) (2.2.0)\n",
      "Installing collected packages: prettytable\n",
      "Successfully installed prettytable-2.1.0\n",
      "Note: you may need to restart the kernel to use updated packages.\n"
     ]
    }
   ],
   "source": [
    "pip install prettytable "
   ]
  },
  {
   "cell_type": "code",
   "execution_count": 12,
   "metadata": {},
   "outputs": [
    {
     "name": "stdout",
     "output_type": "stream",
     "text": [
      "+--------------+-------+---------+------------+\n",
      "| Student Name | Class | Section | Percentage |\n",
      "+--------------+-------+---------+------------+\n",
      "|   Leanord    |   X   |    B    |   91.2 %   |\n",
      "|    Penny     |   X   |    C    |   63.5 %   |\n",
      "|    Howard    |   X   |    A    |  90.23 %   |\n",
      "|  Bernadette  |   X   |    D    |   92.7 %   |\n",
      "|   Sheldon    |   X   |    A    |   98.2 %   |\n",
      "|     Raj      |   X   |    B    |   88.1 %   |\n",
      "|     Amy      |   X   |    B    |   95.0 %   |\n",
      "+--------------+-------+---------+------------+\n"
     ]
    }
   ],
   "source": [
    "from prettytable import PrettyTable \n",
    "  \n",
    "# Specify the Column Names while initializing the Table \n",
    "myTable = PrettyTable([\"Student Name\", \"Class\", \"Section\", \"Percentage\"]) \n",
    "  \n",
    "# Add rows \n",
    "myTable.add_row([\"Leanord\", \"X\", \"B\", \"91.2 %\"]) \n",
    "myTable.add_row([\"Penny\", \"X\", \"C\", \"63.5 %\"]) \n",
    "myTable.add_row([\"Howard\", \"X\", \"A\", \"90.23 %\"]) \n",
    "myTable.add_row([\"Bernadette\", \"X\", \"D\", \"92.7 %\"]) \n",
    "myTable.add_row([\"Sheldon\", \"X\", \"A\", \"98.2 %\"]) \n",
    "myTable.add_row([\"Raj\", \"X\", \"B\", \"88.1 %\"]) \n",
    "myTable.add_row([\"Amy\", \"X\", \"B\", \"95.0 %\"]) \n",
    "  \n",
    "print(myTable)"
   ]
  },
  {
   "cell_type": "code",
   "execution_count": 20,
   "metadata": {},
   "outputs": [
    {
     "name": "stdout",
     "output_type": "stream",
     "text": [
      "+--------------------+-----------+-----------+--------------------+\n",
      "| N Number of Primes | # w/ 4k+1 | # w/ 4k+3 |       Ratio        |\n",
      "+--------------------+-----------+-----------+--------------------+\n",
      "|         10         |     4     |     6     |        1.5         |\n",
      "|        100         |     47    |     53    | 1.127659574468085  |\n",
      "|        1000        |    495    |    505    |  1.02020202020202  |\n",
      "|       10000        |    4984   |    5016   | 1.0064205457463884 |\n",
      "+--------------------+-----------+-----------+--------------------+\n"
     ]
    }
   ],
   "source": [
    "def createModuloTableFor4(maxNumberPrimes):\n",
    "    myTable = PrettyTable([\"N Number of Primes\", \"# w/ 4k+1\", \"# w/ 4k+3\", \"Ratio\"])\n",
    "    tempNumberPrimes = 10\n",
    "    while tempNumberPrimes <= maxNumberPrimes:\n",
    "        listPrimes = createNPrimes(tempNumberPrimes, 3)\n",
    "        numbWithRemain1 = 0\n",
    "        numbWithRemain3 = 0\n",
    "        for i in listPrimes:\n",
    "            if i % 4 == 1:\n",
    "                numbWithRemain1 = numbWithRemain1 + 1\n",
    "            else:\n",
    "                numbWithRemain3 = numbWithRemain3 + 1\n",
    "        myTable.add_row([tempNumberPrimes, numbWithRemain1, numbWithRemain3, (numbWithRemain3/numbWithRemain1)])\n",
    "        tempNumberPrimes = tempNumberPrimes * 10\n",
    "    print(myTable)\n",
    "createModuloTableFor4(10000)\n",
    "          "
   ]
  },
  {
   "cell_type": "code",
   "execution_count": 25,
   "metadata": {},
   "outputs": [
    {
     "name": "stdout",
     "output_type": "stream",
     "text": [
      "+--------------------+-----------+-----------+-----------+-----------+-------+\n",
      "| N Number of Primes | # w/ 4k+1 | # w/ 4k+2 | # w/ 4k+3 | # w/ 4k+4 | Ratio |\n",
      "+--------------------+-----------+-----------+-----------+-----------+-------+\n",
      "|         10         |     3     |     3     |     2     |     2     |   0   |\n",
      "|        100         |     24    |     26    |     26    |     24    |   0   |\n",
      "|        1000        |    245    |    256    |    253    |    246    |   0   |\n",
      "|       10000        |    2485   |    2508   |    2515   |    2492   |   0   |\n",
      "+--------------------+-----------+-----------+-----------+-----------+-------+\n"
     ]
    }
   ],
   "source": [
    "def createModuloTableFor5(maxNumberPrimes):\n",
    "    myTable = PrettyTable([\"N Number of Primes\", \"# w/ 4k+1\", \"# w/ 4k+2\", \"# w/ 4k+3\", \"# w/ 4k+4\", \"Ratio\"])\n",
    "    tempNumberPrimes = 10\n",
    "    while tempNumberPrimes <= maxNumberPrimes:\n",
    "        listPrimes = createNPrimes(tempNumberPrimes, 7)\n",
    "        numbWithRemain1 = 0\n",
    "        numbWithRemain2 = 0\n",
    "        numbWithRemain3 = 0\n",
    "        numbWithRemain4 = 0\n",
    "        for i in listPrimes:\n",
    "            if i % 5 == 1:\n",
    "                numbWithRemain1 = numbWithRemain1 + 1\n",
    "            elif i % 5 == 2 :\n",
    "                numbWithRemain2 = numbWithRemain2 + 1\n",
    "            elif i % 5 == 3 :\n",
    "                numbWithRemain3 = numbWithRemain3 + 1\n",
    "            elif i % 5 == 4:\n",
    "                numbWithRemain4 = numbWithRemain4 + 1\n",
    "                \n",
    "        myTable.add_row([tempNumberPrimes, numbWithRemain1, numbWithRemain2, numbWithRemain3, numbWithRemain4, 0])\n",
    "        tempNumberPrimes = tempNumberPrimes * 10\n",
    "    print(myTable)\n",
    "createModuloTableFor5(10000)"
   ]
  },
  {
   "cell_type": "code",
   "execution_count": null,
   "metadata": {},
   "outputs": [],
   "source": []
  },
  {
   "cell_type": "code",
   "execution_count": null,
   "metadata": {},
   "outputs": [],
   "source": []
  },
  {
   "cell_type": "code",
   "execution_count": null,
   "metadata": {},
   "outputs": [],
   "source": []
  },
  {
   "cell_type": "code",
   "execution_count": null,
   "metadata": {},
   "outputs": [],
   "source": []
  },
  {
   "cell_type": "code",
   "execution_count": null,
   "metadata": {},
   "outputs": [],
   "source": []
  }
 ],
 "metadata": {
  "kernelspec": {
   "display_name": "Python 3",
   "language": "python",
   "name": "python3"
  },
  "language_info": {
   "codemirror_mode": {
    "name": "ipython",
    "version": 3
   },
   "file_extension": ".py",
   "mimetype": "text/x-python",
   "name": "python",
   "nbconvert_exporter": "python",
   "pygments_lexer": "ipython3",
   "version": "3.7.6"
  }
 },
 "nbformat": 4,
 "nbformat_minor": 4
}

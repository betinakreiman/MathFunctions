{
 "cells": [
  {
   "cell_type": "code",
   "execution_count": 17,
   "metadata": {},
   "outputs": [
    {
     "data": {
      "text/plain": [
       "3"
      ]
     },
     "execution_count": 17,
     "metadata": {},
     "output_type": "execute_result"
    }
   ],
   "source": [
    "import math\n",
    "\n",
    "def findingGCD2Numbers(a, b):\n",
    "    previousRemainder = 1\n",
    "    remainder = 1\n",
    "    tempA = a\n",
    "    #counting = 1\n",
    "    \n",
    "    while True:\n",
    "        remainder = (a - b*math.floor(a/b))\n",
    "        \n",
    "        if remainder == 0:\n",
    "            return previousRemainder\n",
    "        \n",
    "        else:\n",
    "            a = b \n",
    "            previousRemainder = remainder\n",
    "            b = remainder\n",
    "            \n",
    "        #if counting > 100:\n",
    "            #return\n",
    "        #counting = counting + 1\n",
    "findingGCD2Numbers(9, 6)"
   ]
  },
  {
   "cell_type": "code",
   "execution_count": 18,
   "metadata": {},
   "outputs": [
    {
     "data": {
      "text/plain": [
       "[[1234, 4321, 0, 1234],\n",
       " [4321, 1234, 3, 619],\n",
       " [1234, 619, 1, 615],\n",
       " [619, 615, 1, 4],\n",
       " [615, 4, 153, 3],\n",
       " [4, 3, 1, 1],\n",
       " [3, 1, 3, 0]]"
      ]
     },
     "execution_count": 18,
     "metadata": {},
     "output_type": "execute_result"
    }
   ],
   "source": [
    "import math\n",
    "\n",
    "def gcdProvideArrOfArrWithCoefficient(a, b):\n",
    "    arrayOfCoefficients = []\n",
    "    \n",
    "    previousRemainder = 1\n",
    "    remainder = 1\n",
    "    tempA = a\n",
    "    \n",
    "    while True:\n",
    "        q = math.floor(a/b)\n",
    "        remainder = (a - b*q)\n",
    "        \n",
    "        arrayOfCoefficients.append([a, b, q, remainder])\n",
    "        \n",
    "        if remainder == 0:\n",
    "            return arrayOfCoefficients\n",
    "        \n",
    "        else:\n",
    "            a = b \n",
    "            previousRemainder = remainder\n",
    "            b = remainder\n",
    "            \n",
    "gcdProvideArrOfArrWithCoefficient(1234, 4321)"
   ]
  },
  {
   "cell_type": "markdown",
   "metadata": {},
   "source": [
    "def findAnswerToDiaphantineEquation2(a, b, c):\n",
    "    # see if c is divisible by gcd of a and b\n",
    "    gcd = findingGCD2Numbers(a,b)\n",
    "    if c % gcd != 0:\n",
    "        return 'no integer solution'\n",
    "    \n",
    "    arrayGCDnumbers = gcdProvideArrOfArrWithCoefficient(a, b)\n",
    "    lengthOfArrays = len(arrayGCDnumbers) - 1 #7\n",
    "    \n",
    "    \n",
    "    previousValue = 1\n",
    "    integerValue = 0\n",
    "    \n",
    "    for i in range(0, len(arrayGCDnumbers)-2):\n",
    "        #print(arrayGCDnumbers[lengthOfArrays-i-1][2])\n",
    "        temp = (arrayGCDnumbers[lengthOfArrays-i-1][2]*arrayGCDnumbers[lengthOfArrays-i-2][2])\n",
    "        print(temp)\n",
    "        integerValue += previousValue + temp\n",
    "        #print(integerValue)\n",
    "        previousValue = integerValue\n",
    "        \n",
    "        # array arrayGCDnumbers[lengthOfArrays - i] \n",
    "        \n",
    "        # the gcd is equal to array[0] - array[1]*array[2]\n",
    "        # array[1] = nextArray[]\n",
    "    return integerValue\n",
    "findAnswerToDiaphantineEquation2(907, 556, 13)"
   ]
  },
  {
   "cell_type": "code",
   "execution_count": 14,
   "metadata": {},
   "outputs": [
    {
     "data": {
      "text/plain": [
       "2"
      ]
     },
     "execution_count": 14,
     "metadata": {},
     "output_type": "execute_result"
    }
   ],
   "source": [
    "def gcdWithRecursion(a, b):\n",
    "    if a%b == 0:\n",
    "        return b\n",
    "    return gcdWithRecursion(b, a%b)\n",
    "gcdWithRecursion(26, 72)"
   ]
  },
  {
   "cell_type": "markdown",
   "metadata": {},
   "source": [
    "def findAnswerToDiaphantineEquation(a, b, c):\n",
    "    # see if c is divisible by gcd of a and b\n",
    "    gcd = findingGCD2Numbers(a,b)\n",
    "    if c % gcd != 0:\n",
    "        return 'no integer solution'\n",
    "    \n",
    "    arrayGCDnumbers = gcdProvideArrOfArrWithCoefficient(a, b)\n",
    "    lengthOfArrays = len(arrayGCDnumbers) - 1 #7\n",
    "    \n",
    "    \n",
    "    integerValue = (arrayGCDnumbers[lengthOfArrays-1][2]*arrayGCDnumbers[lengthOfArrays-2][2]) + 1\n",
    "    previousValue = integerValue\n",
    "    previousAgain = arrayGCDnumbers[lengthOfArrays-1][2]\n",
    "    \n",
    "    for i in range(1, len(arrayGCDnumbers)-3):\n",
    "        print(previousAgain)\n",
    "        \n",
    "        #temp = (integerValue*arrayGCDnumbers[lengthOfArrays-i-2][2])\n",
    "        #print(integerValue*arrayGCDnumbers[lengthOfArrays-i-1][2])\n",
    "        integerValue = integerValue*arrayGCDnumbers[lengthOfArrays-i-1][2] + previousAgain\n",
    "        \n",
    "        previousAgain = previousValue\n",
    "        previousValue = integerValue\n",
    "        \n",
    "    return integerValue\n",
    "findAnswerToDiaphantineEquation(907, 556, 13)"
   ]
  },
  {
   "cell_type": "code",
   "execution_count": 21,
   "metadata": {},
   "outputs": [
    {
     "data": {
      "text/plain": [
       "(-133086.0, 38007.0)"
      ]
     },
     "execution_count": 21,
     "metadata": {},
     "output_type": "execute_result"
    }
   ],
   "source": [
    "def findSolution(a, b, c):\n",
    "    gcd = findingGCD2Numbers(a,b)\n",
    "    if c % gcd != 0:\n",
    "        return 'no integer solution'\n",
    "    \n",
    "    arrayGCDnumbers = gcdProvideArrOfArrWithCoefficient(a, b)\n",
    "    del arrayGCDnumbers[-1]\n",
    "    lengthOfArrays = len(arrayGCDnumbers) \n",
    "    \n",
    "    integerValue = 1\n",
    "    addingValue = 0\n",
    "    \n",
    "    for i in range(0, lengthOfArrays-1):\n",
    "        temp = integerValue\n",
    "        integerValue = integerValue * arrayGCDnumbers[lengthOfArrays-1-i][2] \n",
    "        integerValue = integerValue + addingValue\n",
    "        addingValue = temp\n",
    "        \n",
    "    #print(integerValue, addingValue)\n",
    "        \n",
    "    finalCoefficientA = 0\n",
    "    finalCoefficientB = 0\n",
    "    \n",
    "    finalCoefficientA, finalCoefficientB = checkWhichOnesWhich(a, b, integerValue, addingValue, gcd)\n",
    "    \n",
    "    if gcd == c:\n",
    "        return finalCoefficientA, finalCoefficientB\n",
    "    scalar = c / gcd\n",
    "    finalCoefficientA = finalCoefficientA * scalar\n",
    "    finalCoefficientB = finalCoefficientB * scalar\n",
    "    return finalCoefficientA, finalCoefficientB\n",
    "    \n",
    "findSolution(1234, 4321, 123)\n",
    "    \n",
    "    \n",
    "    "
   ]
  },
  {
   "cell_type": "code",
   "execution_count": 5,
   "metadata": {},
   "outputs": [
    {
     "data": {
      "text/plain": [
       "(5, -2)"
      ]
     },
     "execution_count": 5,
     "metadata": {},
     "output_type": "execute_result"
    }
   ],
   "source": [
    "def checkWhichOnesWhich(a, b, integerValue, addingValue, gcd):\n",
    "    finalCoefficientA = 0\n",
    "    finalCoefficientB = 0\n",
    "    \n",
    "    if integerValue * a + (-1)*(addingValue+integerValue) * b == gcd:\n",
    "        finalCoefficientA = integerValue\n",
    "        finalCoefficientB = (-1) * (addingValue+integerValue)\n",
    "    elif (-1)*integerValue * a + (addingValue+integerValue) * b == gcd:\n",
    "        finalCoefficientA = (-1) * integerValue\n",
    "        finalCoefficientB = (addingValue+integerValue)\n",
    "        \n",
    "    elif integerValue * b + (-1)*(addingValue+integerValue) * a == gcd:\n",
    "        finalCoefficientB = integerValue\n",
    "        finalCoefficientA = (-1) * (addingValue+integerValue)\n",
    "    elif integerValue * a + (-1)*(addingValue+integerValue) * b == gcd:\n",
    "        finalCoefficientB = (-1) * integerValue\n",
    "        finalCoefficientA = (addingValue+integerValue)\n",
    "        \n",
    "    elif (-1)*integerValue*a + (addingValue)*b == gcd:\n",
    "        finalCoefficientA = (-1)*integerValue\n",
    "        finalCoefficientB = addingValue\n",
    "    elif (-1)*integerValue*b + addingValue*a == gcd:\n",
    "        finalCoefficientB = (-1)*integerValue\n",
    "        finalCoefficientA = addingValue\n",
    "        \n",
    "    elif integerValue*a + (integerValue - addingValue)*b == gcd:\n",
    "        finalCoefficientA = integerValue\n",
    "        finalCoefficientB = integerValue - addingValue\n",
    "    elif integerValue*b + (integerValue - addingValue)*a == gcd:\n",
    "        finalCoefficientB = integerValue\n",
    "        finalCoefficientA = integerValue - addingValue\n",
    "        \n",
    "    elif integerValue*a + (-1)*addingValue*b == gcd:\n",
    "        finalCoefficientA = integerValue\n",
    "        finalCoefficientB = (-1)*addingValue\n",
    "    elif integerValue*b + (-1)*addingValue*a == gcd:\n",
    "        finalCoefficientB = integerValue\n",
    "        finalCoefficientA = (-1)*addingValue\n",
    "    \n",
    "    return finalCoefficientA, finalCoefficientB\n",
    "checkWhichOnesWhich(25, 60, 5, 2, 5)"
   ]
  },
  {
   "cell_type": "code",
   "execution_count": 22,
   "metadata": {},
   "outputs": [
    {
     "data": {
      "text/plain": [
       "52"
      ]
     },
     "execution_count": 22,
     "metadata": {},
     "output_type": "execute_result"
    }
   ],
   "source": [
    "-308%72"
   ]
  },
  {
   "cell_type": "code",
   "execution_count": null,
   "metadata": {},
   "outputs": [],
   "source": []
  },
  {
   "cell_type": "code",
   "execution_count": null,
   "metadata": {},
   "outputs": [],
   "source": []
  },
  {
   "cell_type": "code",
   "execution_count": null,
   "metadata": {},
   "outputs": [],
   "source": []
  },
  {
   "cell_type": "code",
   "execution_count": null,
   "metadata": {},
   "outputs": [],
   "source": []
  }
 ],
 "metadata": {
  "kernelspec": {
   "display_name": "Python 3",
   "language": "python",
   "name": "python3"
  },
  "language_info": {
   "codemirror_mode": {
    "name": "ipython",
    "version": 3
   },
   "file_extension": ".py",
   "mimetype": "text/x-python",
   "name": "python",
   "nbconvert_exporter": "python",
   "pygments_lexer": "ipython3",
   "version": "3.7.6"
  }
 },
 "nbformat": 4,
 "nbformat_minor": 4
}
